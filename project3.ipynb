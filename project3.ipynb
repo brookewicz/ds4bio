{
 "cells": [
  {
   "cell_type": "markdown",
   "id": "5c584d1a-88dd-4107-a2c2-e53edf83633d",
   "metadata": {},
   "source": [
    "## Project Pt 3"
   ]
  },
  {
   "cell_type": "markdown",
   "id": "de8a5100-dfcf-40a1-9afd-49032e5529ef",
   "metadata": {},
   "source": [
    "### 1. Introduction\n",
    "This paper completed a meta-analysis examining the differences in microbiomes of corals with and without stony coral tissue loss disease (sctld). In an effort to reduce biases from varying sampling and bioinformatic methods, they compiled datasets from 16 different studies to identify microbial taxa that may be associated with the disease since the cause of sctld is still unknown. "
   ]
  },
  {
   "cell_type": "markdown",
   "id": "7c1ea9ca-8029-4a6e-9525-6bd13659455d",
   "metadata": {
    "tags": []
   },
   "source": [
    "### 2. Project Pt 2\n",
    "\n",
    "#### 2.1 Contents of Project pt 2\n",
    "Section 1: Data Set 1 from Project Pt1: https://www.nature.com/articles/s43705-023-00220-0\n",
    "- Data sets acquired from 16 studies. **2425** total coral samples (observations). samples collected either from the field or from lab-based experiments and sequenced  \n",
    "- Features (>1000) - taxonomic units (ASVs) that describe how many counts of those ASVs were in each coral sample (the observations)\n",
    "- Metadata about observations - sample type (tissue, mucus, mucus/tissue combo), disease state, geographic location, coral species, aquaria vs natural environment. They also had other data sets of water and sediment samples with ASVs as features. \n",
    "\n",
    "Research Qs:\n",
    "- the cause of stony coral tissue loss disease is unknown but is hypothesized to be from a microbial pathogen - what bacteria are associated with the disease? How do these associated taxa vary across environments and coral species?\n",
    "    - they theorized that a lack of consensus across studies investigating bacteria associated with sctld is from variability in both sample type (location, coral species, field vs aquaria) and bionformatic analysis. They collected data from multiple studies to analysis them using a single bioinformatic pipeline to limit this variability and investigate similar questions by a meta-analysis using the compiled data.\n",
    "- you can also ask how coral microbiomes differ when raised in aquaria vs found in their natural environments. you can also examine how microbiomes of the same species differ across locations and disease states. **comment correction: The data set is useful because it includes microbiome samples for corals raised in aquaria vs those sampled from the field. Since the corals sampled have varying disease states, you can just reframe the question to be about coral microbiomes in different environments instead of focusing on disease state. There is also plenty of samples from the same species which is why this data would be useful in examning microbiomes across disease state and/or location within the same host species.** \n",
    "- they also examined the microbial communities in the water and sediment surrounding some of the coral samples to try to identify potential pathogens that are transmissable \n"
   ]
  },
  {
   "cell_type": "markdown",
   "id": "3a16dd84-cf36-4a9a-8ef5-1e3061ec2134",
   "metadata": {
    "tags": []
   },
   "source": [
    "Figure 1: \n",
    "![image.png](attachment:aa9d2e13-d310-4a79-b5d4-d43e7879f975.png)"
   ]
  },
  {
   "cell_type": "markdown",
   "id": "d6bffe89-146e-4ede-bb01-19e117697fd4",
   "metadata": {},
   "source": [
    "Section 2 - **Figure 1** Answers:\n",
    "- x-axis: Log fold change & relative abundance\n",
    "- y-axis: taxa (genus, order)\n",
    "- A) the data points show the log fold changes in taxonomic groups when comparing disease lesion (diseased tissue sample) to apparently healthy. So, anything showing positive log-fold change means that taxa was more abundant in Disease Lesion, and anything negative was less abundant in Disease Lesion\n",
    "- B) the relative abundances of the taxa groups within the sample types. **comment correction: the relative abundance is calculating the fraction of sample type compared to the rest. the number of samples within a sample type (seawater, mucus, slury, etc) divided by the total number of samples - and the total number of samples is set to 1**\n",
    "- this figure illustrates how bacterial taxa significantly change between healthy and diseased corals, supporting their hypothesis that certain taxa are associated with the disease. B shows how some of these abundances vary across environment or parts of the coral (mucus vs tissue) to support their hypothesis that microbiome changes and associated bacteria may depend on individual hosts. It also shows how disease-associated microbes may be present in the water and sediment, providing evidence for their hypothesis that this disease is transmissable.\n",
    "- Conclusions: Certain bacterial groups are associated with the disease. Multiple genera in Rhodobacterales and Peptostreptococcales increased significantly in diseased samples indicating it may be pathogenic or just associated with the disease state. Some bacteria associated with the disease may be present in the surrounding seawater and sediment, meaning it may be transmissable. "
   ]
  },
  {
   "cell_type": "markdown",
   "id": "7de98a3c-00e0-4c28-8baa-5c8a054dffa1",
   "metadata": {},
   "source": [
    "Figure 2: ![image.png](attachment:f53cb107-74cb-4be2-ad39-1a5741094d38.png)"
   ]
  },
  {
   "cell_type": "markdown",
   "id": "5cdf4034-efc0-4f60-843f-792602fd8387",
   "metadata": {},
   "source": [
    "Section 2 - **Figure 2** Answers:\n",
    "- x-axis: Log fold change & relative abundance\n",
    "- y-axis: taxa (genus, order)\n",
    "- A) the data points show the log fold changes in taxonomic groups when comparing disease unaffected (unaffected tissue sample from a diseased coral colony) to apparently healthy. So, anything showing positive log-fold change means that taxa was more abundant in Disease Unaffected, and anything negative was less abundant in Disease Unaffected\n",
    "- B) the relative abundances of the taxa groups within the sample types\n",
    "\n",
    "- this figure also illustrates how bacterial taxa significantly change between healthy and diseased corals, supporting their hypothesis that certain taxa are associated with the disease. This is helpful to provide in addition to Figure 1 because it shows that the microbiome of the entire coral colony changes after being introduced to the disease, even if the disease symptoms haven't spread through the whole coral colony. B shows how some of these abundances vary across environment or parts of the coral (mucus vs tissue) to support their hypothesis that microbiome changes and associated bacteria may depend on individual hosts. It also shows how disease-associated microbes may be present in the water and sediment, providing evidence for their hypothesis that this disease is transmissable.\n",
    "\n",
    "- Conclusions: Both figures together show which bacteria may be associated with healthy corals or the disease. Multiple genera in Rhodobacterales decreased significantly in DU group but Flavobacteriales increased. \n",
    "\n",
    "Another figure that would be helpful would be the same type of figure showing the significant changes in taxa between Disease Unaffected (DU) and Disease Lesion (DL). This would allow you to easily compare all the taxa between all the groups - especially between the disease lesion and disease unaffected. this direct comparison is currently not shown in a figure in the paper. "
   ]
  },
  {
   "cell_type": "markdown",
   "id": "c06ceab4-61e8-47e4-bb88-b6a793f91d79",
   "metadata": {},
   "source": [
    "Section 3: \n",
    "Data table 1: taxonomy.tsv \n",
    "- tab deliminated data table - opened in excel \n",
    "- 147455 rows & 3 columns. The columns are the feature IDs (which is just the sequence sample identifier), Taxonomy (the identified microbial taxa from the sequence: kingdom - species), and Concensus (percentage that the sequence matched the identified taxa group in the taxonomy database it was matched against). The feature ID's are the observations and the taxonomy and consensus columns are the features. \n",
    "- This data is important because it matches each sequence to a microbial taxa. This enables comparing the taxa between samples which is important to answer the paper's questions. \n",
    "\n",
    "Data table 2: Feature-table.biom\n",
    "- biom table format - downloaded QIIME2 (bioinformatic software package) and accessed through command line: converted biom format to txt file and opened as tab deliminated table in excel\n",
    "- 119456 rows, 2426 columns. rows are feature IDs (match the ones in data table 1), columns are samples (observations). File contains number of feature IDs (sequences of microbial taxa) in each coral sample\n",
    "- this is essential to the paper because knowing the amount of each taxa in the samples allows comparisons between sample groups, so you can identify bacteria associated with diseased coral samples by seeing which taxa are more abundant in diseased samples vs healthy samples.\n",
    "\n",
    "Data table 3: SCTLD_meta_analysis_metadata.csv\n",
    "- comma deliminated table - opened in excel \n",
    "- 2444 rows, 68 columns. rows are sample IDs the columns contain metadata about the samples including the study the data came from, the coral species, the disease state, location of coral. \n",
    "- The file is important to the analysis because it allows you to match the sample ID to the other data tables and contains important information about the samples. Using this in combination with the other data tables, they were able to sort samples into disease state or environment or sample type to compare microbial abundances to answer their research question."
   ]
  },
  {
   "cell_type": "markdown",
   "id": "c64b4c04-9e53-47e2-8dd5-aa71cf7cebab",
   "metadata": {},
   "source": [
    "#### 2.2 Project Pt 2\n",
    "- I added why the data set on hand would be useful for other potential research questions and added more information on what relative abundance (one of the axes) is in figure 1. "
   ]
  },
  {
   "cell_type": "markdown",
   "id": "40e1686a-286d-4020-8e36-6366f2d35da8",
   "metadata": {},
   "source": [
    "### 3. Data Cleaning and Exploration\n",
    "\n",
    "#### 3.1 Load and clean data\n",
    "Link to paper & data:\n",
    "https://www.nature.com/articles/s43705-023-00220-0#data-availability\n",
    "\n",
    "##### Steps to obtain data:\n",
    "1. Click link to github with data \n",
    "https://github.com/srosales712/SCTLD_microbiome_meta_analysis\n",
    "\n",
    "2. Download SCTLD_meta_analysis_metadata.csv and save into ds4bio directory\n",
    "\n",
    "3. Go to Qiime_output folder and download feature-table.biom & taxonomy.tsv and save into ds4bio directory\n",
    "\n",
    "4. Complete code below to convert the \"biom\" format into a tsv file"
   ]
  },
  {
   "cell_type": "code",
   "execution_count": null,
   "id": "59420f34-e172-4985-9055-4a1f99718432",
   "metadata": {},
   "outputs": [],
   "source": [
    "#install biom-format via command line in terminal \n",
    "pip install biom-format\n",
    "#convert the biom table to a tsv file \n",
    "biom convert -i feature-table.biom -o feature-table.tsv --to-tsv"
   ]
  },
  {
   "cell_type": "markdown",
   "id": "ac016832-c5bd-4961-bc98-2ed4149489ef",
   "metadata": {},
   "source": [
    "5. Open the feature-table.tsv file in excel (select \"tab-deliminated\" when prompted)\n",
    "\n",
    "6. Open the taxonomy.tsv file in excel the same way \n",
    "\n",
    "7. Open the SCTLD_meta_analysis_metadata.csv in excel"
   ]
  },
  {
   "cell_type": "markdown",
   "id": "d60f8947-518c-4b2a-84f0-786a27f05323",
   "metadata": {
    "tags": []
   },
   "source": [
    "##### Loading Data"
   ]
  },
  {
   "cell_type": "code",
   "execution_count": 3,
   "id": "9a721a79-76ce-4bce-a75b-05dbc0e87683",
   "metadata": {
    "tags": []
   },
   "outputs": [
    {
     "data": {
      "text/html": [
       "<div>\n",
       "<style scoped>\n",
       "    .dataframe tbody tr th:only-of-type {\n",
       "        vertical-align: middle;\n",
       "    }\n",
       "\n",
       "    .dataframe tbody tr th {\n",
       "        vertical-align: top;\n",
       "    }\n",
       "\n",
       "    .dataframe thead th {\n",
       "        text-align: right;\n",
       "    }\n",
       "</style>\n",
       "<table border=\"1\" class=\"dataframe\">\n",
       "  <thead>\n",
       "    <tr style=\"text-align: right;\">\n",
       "      <th></th>\n",
       "      <th>SampleID</th>\n",
       "      <th>BioSample</th>\n",
       "      <th>Run</th>\n",
       "      <th>SRA_accession</th>\n",
       "      <th>Lab</th>\n",
       "      <th>Experiment</th>\n",
       "      <th>Alias</th>\n",
       "      <th>Study</th>\n",
       "      <th>Collection_ID</th>\n",
       "      <th>Species_counts</th>\n",
       "      <th>...</th>\n",
       "      <th>primer_names</th>\n",
       "      <th>forwardPrimer</th>\n",
       "      <th>ReversePrimer</th>\n",
       "      <th>linkerPrimerSequence</th>\n",
       "      <th>platform</th>\n",
       "      <th>platformChemistry</th>\n",
       "      <th>sequencing_facility</th>\n",
       "      <th>barcodes</th>\n",
       "      <th>basepairs</th>\n",
       "      <th>notes</th>\n",
       "    </tr>\n",
       "    <tr>\n",
       "      <th>sample-id</th>\n",
       "      <th></th>\n",
       "      <th></th>\n",
       "      <th></th>\n",
       "      <th></th>\n",
       "      <th></th>\n",
       "      <th></th>\n",
       "      <th></th>\n",
       "      <th></th>\n",
       "      <th></th>\n",
       "      <th></th>\n",
       "      <th></th>\n",
       "      <th></th>\n",
       "      <th></th>\n",
       "      <th></th>\n",
       "      <th></th>\n",
       "      <th></th>\n",
       "      <th></th>\n",
       "      <th></th>\n",
       "      <th></th>\n",
       "      <th></th>\n",
       "      <th></th>\n",
       "    </tr>\n",
       "  </thead>\n",
       "  <tbody>\n",
       "    <tr>\n",
       "      <th>66NAT</th>\n",
       "      <td>66NAT</td>\n",
       "      <td>SAMN14322012</td>\n",
       "      <td>12</td>\n",
       "      <td>SRS6274849</td>\n",
       "      <td>P_Thome</td>\n",
       "      <td>Pseudodiploria_strigosa</td>\n",
       "      <td>Patriciathome_Pstrigosa</td>\n",
       "      <td>P_Thome</td>\n",
       "      <td>66NAT</td>\n",
       "      <td>High</td>\n",
       "      <td>...</td>\n",
       "      <td>341F_805R</td>\n",
       "      <td>CCTACGGGNGGCWGCAG</td>\n",
       "      <td>GACTACHVGGGTATCTAATCC</td>\n",
       "      <td>TCGTCGGCAGCGTCAGATGTGTATAAGAGACAG/GTCTCGTGGGCT...</td>\n",
       "      <td>Illumina</td>\n",
       "      <td>MiSeq</td>\n",
       "      <td>CINVESTAV_Merida</td>\n",
       "      <td>NexteraXT</td>\n",
       "      <td>250.0</td>\n",
       "      <td>NaN</td>\n",
       "    </tr>\n",
       "    <tr>\n",
       "      <th>68NAT</th>\n",
       "      <td>68NAT</td>\n",
       "      <td>SAMN14322013</td>\n",
       "      <td>12</td>\n",
       "      <td>SRS6274852</td>\n",
       "      <td>P_Thome</td>\n",
       "      <td>Pseudodiploria_strigosa</td>\n",
       "      <td>Patriciathome_Pstrigosa</td>\n",
       "      <td>P_Thome</td>\n",
       "      <td>68NAT</td>\n",
       "      <td>High</td>\n",
       "      <td>...</td>\n",
       "      <td>341F_805R</td>\n",
       "      <td>CCTACGGGNGGCWGCAG</td>\n",
       "      <td>GACTACHVGGGTATCTAATCC</td>\n",
       "      <td>TCGTCGGCAGCGTCAGATGTGTATAAGAGACAG/GTCTCGTGGGCT...</td>\n",
       "      <td>Illumina</td>\n",
       "      <td>MiSeq</td>\n",
       "      <td>CINVESTAV_Merida</td>\n",
       "      <td>NexteraXT</td>\n",
       "      <td>250.0</td>\n",
       "      <td>NaN</td>\n",
       "    </tr>\n",
       "    <tr>\n",
       "      <th>69NAT</th>\n",
       "      <td>69NAT</td>\n",
       "      <td>SAMN14322014</td>\n",
       "      <td>12</td>\n",
       "      <td>SRS6274848</td>\n",
       "      <td>P_Thome</td>\n",
       "      <td>Pseudodiploria_strigosa</td>\n",
       "      <td>Patriciathome_Pstrigosa</td>\n",
       "      <td>P_Thome</td>\n",
       "      <td>69NAT</td>\n",
       "      <td>High</td>\n",
       "      <td>...</td>\n",
       "      <td>341F_805R</td>\n",
       "      <td>CCTACGGGNGGCWGCAG</td>\n",
       "      <td>GACTACHVGGGTATCTAATCC</td>\n",
       "      <td>TCGTCGGCAGCGTCAGATGTGTATAAGAGACAG/GTCTCGTGGGCT...</td>\n",
       "      <td>Illumina</td>\n",
       "      <td>MiSeq</td>\n",
       "      <td>CINVESTAV_Merida</td>\n",
       "      <td>NexteraXT</td>\n",
       "      <td>250.0</td>\n",
       "      <td>NaN</td>\n",
       "    </tr>\n",
       "  </tbody>\n",
       "</table>\n",
       "<p>3 rows × 69 columns</p>\n",
       "</div>"
      ],
      "text/plain": [
       "          SampleID     BioSample Run SRA_accession      Lab  \\\n",
       "sample-id                                                     \n",
       "66NAT        66NAT  SAMN14322012  12    SRS6274849  P_Thome   \n",
       "68NAT        68NAT  SAMN14322013  12    SRS6274852  P_Thome   \n",
       "69NAT        69NAT  SAMN14322014  12    SRS6274848  P_Thome   \n",
       "\n",
       "                        Experiment                    Alias    Study  \\\n",
       "sample-id                                                              \n",
       "66NAT      Pseudodiploria_strigosa  Patriciathome_Pstrigosa  P_Thome   \n",
       "68NAT      Pseudodiploria_strigosa  Patriciathome_Pstrigosa  P_Thome   \n",
       "69NAT      Pseudodiploria_strigosa  Patriciathome_Pstrigosa  P_Thome   \n",
       "\n",
       "          Collection_ID Species_counts  ... primer_names      forwardPrimer  \\\n",
       "sample-id                               ...                                   \n",
       "66NAT             66NAT           High  ...    341F_805R  CCTACGGGNGGCWGCAG   \n",
       "68NAT             68NAT           High  ...    341F_805R  CCTACGGGNGGCWGCAG   \n",
       "69NAT             69NAT           High  ...    341F_805R  CCTACGGGNGGCWGCAG   \n",
       "\n",
       "                   ReversePrimer  \\\n",
       "sample-id                          \n",
       "66NAT      GACTACHVGGGTATCTAATCC   \n",
       "68NAT      GACTACHVGGGTATCTAATCC   \n",
       "69NAT      GACTACHVGGGTATCTAATCC   \n",
       "\n",
       "                                        linkerPrimerSequence  platform  \\\n",
       "sample-id                                                                \n",
       "66NAT      TCGTCGGCAGCGTCAGATGTGTATAAGAGACAG/GTCTCGTGGGCT...  Illumina   \n",
       "68NAT      TCGTCGGCAGCGTCAGATGTGTATAAGAGACAG/GTCTCGTGGGCT...  Illumina   \n",
       "69NAT      TCGTCGGCAGCGTCAGATGTGTATAAGAGACAG/GTCTCGTGGGCT...  Illumina   \n",
       "\n",
       "          platformChemistry sequencing_facility   barcodes basepairs notes  \n",
       "sample-id                                                                   \n",
       "66NAT                 MiSeq    CINVESTAV_Merida  NexteraXT     250.0   NaN  \n",
       "68NAT                 MiSeq    CINVESTAV_Merida  NexteraXT     250.0   NaN  \n",
       "69NAT                 MiSeq    CINVESTAV_Merida  NexteraXT     250.0   NaN  \n",
       "\n",
       "[3 rows x 69 columns]"
      ]
     },
     "execution_count": 3,
     "metadata": {},
     "output_type": "execute_result"
    }
   ],
   "source": [
    "#import packages \n",
    "import pandas as pd\n",
    "import numpy as np\n",
    "\n",
    "#load in the metadata from csv as a dataframe. index_col=0 to make row names the first column\n",
    "metadata = pd.read_csv(\"SCTLD_meta_analysis_metadata.csv\", index_col = 0)\n",
    "metadata.head(3)"
   ]
  },
  {
   "cell_type": "markdown",
   "id": "59aae89b-2b81-4c4d-9d7f-4e10ef23bcf3",
   "metadata": {},
   "source": [
    "##### Data Cleaning:"
   ]
  },
  {
   "cell_type": "code",
   "execution_count": 4,
   "id": "44e3af92-65ca-4e00-951f-0515e66a7845",
   "metadata": {
    "tags": []
   },
   "outputs": [
    {
     "data": {
      "text/html": [
       "<div>\n",
       "<style scoped>\n",
       "    .dataframe tbody tr th:only-of-type {\n",
       "        vertical-align: middle;\n",
       "    }\n",
       "\n",
       "    .dataframe tbody tr th {\n",
       "        vertical-align: top;\n",
       "    }\n",
       "\n",
       "    .dataframe thead th {\n",
       "        text-align: right;\n",
       "    }\n",
       "</style>\n",
       "<table border=\"1\" class=\"dataframe\">\n",
       "  <thead>\n",
       "    <tr style=\"text-align: right;\">\n",
       "      <th></th>\n",
       "      <th>BioSample</th>\n",
       "      <th>Run</th>\n",
       "      <th>SRA_accession</th>\n",
       "      <th>Lab</th>\n",
       "      <th>Experiment</th>\n",
       "      <th>Alias</th>\n",
       "      <th>Study</th>\n",
       "      <th>Collection_ID</th>\n",
       "      <th>Species_counts</th>\n",
       "      <th>collection_time</th>\n",
       "      <th>...</th>\n",
       "      <th>primer_names</th>\n",
       "      <th>forwardPrimer</th>\n",
       "      <th>ReversePrimer</th>\n",
       "      <th>linkerPrimerSequence</th>\n",
       "      <th>platform</th>\n",
       "      <th>platformChemistry</th>\n",
       "      <th>sequencing_facility</th>\n",
       "      <th>barcodes</th>\n",
       "      <th>basepairs</th>\n",
       "      <th>notes</th>\n",
       "    </tr>\n",
       "    <tr>\n",
       "      <th>sample-id</th>\n",
       "      <th></th>\n",
       "      <th></th>\n",
       "      <th></th>\n",
       "      <th></th>\n",
       "      <th></th>\n",
       "      <th></th>\n",
       "      <th></th>\n",
       "      <th></th>\n",
       "      <th></th>\n",
       "      <th></th>\n",
       "      <th></th>\n",
       "      <th></th>\n",
       "      <th></th>\n",
       "      <th></th>\n",
       "      <th></th>\n",
       "      <th></th>\n",
       "      <th></th>\n",
       "      <th></th>\n",
       "      <th></th>\n",
       "      <th></th>\n",
       "      <th></th>\n",
       "    </tr>\n",
       "  </thead>\n",
       "  <tbody>\n",
       "    <tr>\n",
       "      <th>66NAT</th>\n",
       "      <td>SAMN14322012</td>\n",
       "      <td>12</td>\n",
       "      <td>SRS6274849</td>\n",
       "      <td>P_Thome</td>\n",
       "      <td>Pseudodiploria_strigosa</td>\n",
       "      <td>Patriciathome_Pstrigosa</td>\n",
       "      <td>P_Thome</td>\n",
       "      <td>66NAT</td>\n",
       "      <td>High</td>\n",
       "      <td>NaN</td>\n",
       "      <td>...</td>\n",
       "      <td>341F_805R</td>\n",
       "      <td>CCTACGGGNGGCWGCAG</td>\n",
       "      <td>GACTACHVGGGTATCTAATCC</td>\n",
       "      <td>TCGTCGGCAGCGTCAGATGTGTATAAGAGACAG/GTCTCGTGGGCT...</td>\n",
       "      <td>Illumina</td>\n",
       "      <td>MiSeq</td>\n",
       "      <td>CINVESTAV_Merida</td>\n",
       "      <td>NexteraXT</td>\n",
       "      <td>250.0</td>\n",
       "      <td>NaN</td>\n",
       "    </tr>\n",
       "    <tr>\n",
       "      <th>68NAT</th>\n",
       "      <td>SAMN14322013</td>\n",
       "      <td>12</td>\n",
       "      <td>SRS6274852</td>\n",
       "      <td>P_Thome</td>\n",
       "      <td>Pseudodiploria_strigosa</td>\n",
       "      <td>Patriciathome_Pstrigosa</td>\n",
       "      <td>P_Thome</td>\n",
       "      <td>68NAT</td>\n",
       "      <td>High</td>\n",
       "      <td>NaN</td>\n",
       "      <td>...</td>\n",
       "      <td>341F_805R</td>\n",
       "      <td>CCTACGGGNGGCWGCAG</td>\n",
       "      <td>GACTACHVGGGTATCTAATCC</td>\n",
       "      <td>TCGTCGGCAGCGTCAGATGTGTATAAGAGACAG/GTCTCGTGGGCT...</td>\n",
       "      <td>Illumina</td>\n",
       "      <td>MiSeq</td>\n",
       "      <td>CINVESTAV_Merida</td>\n",
       "      <td>NexteraXT</td>\n",
       "      <td>250.0</td>\n",
       "      <td>NaN</td>\n",
       "    </tr>\n",
       "    <tr>\n",
       "      <th>69NAT</th>\n",
       "      <td>SAMN14322014</td>\n",
       "      <td>12</td>\n",
       "      <td>SRS6274848</td>\n",
       "      <td>P_Thome</td>\n",
       "      <td>Pseudodiploria_strigosa</td>\n",
       "      <td>Patriciathome_Pstrigosa</td>\n",
       "      <td>P_Thome</td>\n",
       "      <td>69NAT</td>\n",
       "      <td>High</td>\n",
       "      <td>NaN</td>\n",
       "      <td>...</td>\n",
       "      <td>341F_805R</td>\n",
       "      <td>CCTACGGGNGGCWGCAG</td>\n",
       "      <td>GACTACHVGGGTATCTAATCC</td>\n",
       "      <td>TCGTCGGCAGCGTCAGATGTGTATAAGAGACAG/GTCTCGTGGGCT...</td>\n",
       "      <td>Illumina</td>\n",
       "      <td>MiSeq</td>\n",
       "      <td>CINVESTAV_Merida</td>\n",
       "      <td>NexteraXT</td>\n",
       "      <td>250.0</td>\n",
       "      <td>NaN</td>\n",
       "    </tr>\n",
       "  </tbody>\n",
       "</table>\n",
       "<p>3 rows × 68 columns</p>\n",
       "</div>"
      ],
      "text/plain": [
       "              BioSample Run SRA_accession      Lab               Experiment  \\\n",
       "sample-id                                                                     \n",
       "66NAT      SAMN14322012  12    SRS6274849  P_Thome  Pseudodiploria_strigosa   \n",
       "68NAT      SAMN14322013  12    SRS6274852  P_Thome  Pseudodiploria_strigosa   \n",
       "69NAT      SAMN14322014  12    SRS6274848  P_Thome  Pseudodiploria_strigosa   \n",
       "\n",
       "                             Alias    Study Collection_ID Species_counts  \\\n",
       "sample-id                                                                  \n",
       "66NAT      Patriciathome_Pstrigosa  P_Thome         66NAT           High   \n",
       "68NAT      Patriciathome_Pstrigosa  P_Thome         68NAT           High   \n",
       "69NAT      Patriciathome_Pstrigosa  P_Thome         69NAT           High   \n",
       "\n",
       "          collection_time  ... primer_names      forwardPrimer  \\\n",
       "sample-id                  ...                                   \n",
       "66NAT                 NaN  ...    341F_805R  CCTACGGGNGGCWGCAG   \n",
       "68NAT                 NaN  ...    341F_805R  CCTACGGGNGGCWGCAG   \n",
       "69NAT                 NaN  ...    341F_805R  CCTACGGGNGGCWGCAG   \n",
       "\n",
       "                   ReversePrimer  \\\n",
       "sample-id                          \n",
       "66NAT      GACTACHVGGGTATCTAATCC   \n",
       "68NAT      GACTACHVGGGTATCTAATCC   \n",
       "69NAT      GACTACHVGGGTATCTAATCC   \n",
       "\n",
       "                                        linkerPrimerSequence  platform  \\\n",
       "sample-id                                                                \n",
       "66NAT      TCGTCGGCAGCGTCAGATGTGTATAAGAGACAG/GTCTCGTGGGCT...  Illumina   \n",
       "68NAT      TCGTCGGCAGCGTCAGATGTGTATAAGAGACAG/GTCTCGTGGGCT...  Illumina   \n",
       "69NAT      TCGTCGGCAGCGTCAGATGTGTATAAGAGACAG/GTCTCGTGGGCT...  Illumina   \n",
       "\n",
       "          platformChemistry sequencing_facility   barcodes basepairs notes  \n",
       "sample-id                                                                   \n",
       "66NAT                 MiSeq    CINVESTAV_Merida  NexteraXT     250.0   NaN  \n",
       "68NAT                 MiSeq    CINVESTAV_Merida  NexteraXT     250.0   NaN  \n",
       "69NAT                 MiSeq    CINVESTAV_Merida  NexteraXT     250.0   NaN  \n",
       "\n",
       "[3 rows x 68 columns]"
      ]
     },
     "execution_count": 4,
     "metadata": {},
     "output_type": "execute_result"
    }
   ],
   "source": [
    "#from viewing the meta dataframe: index and 1st column are duplicates, so remove first column\n",
    "meta=metadata.drop(\"SampleID\",axis=1)\n",
    "meta.head(3)"
   ]
  },
  {
   "cell_type": "markdown",
   "id": "3499acdf-5870-4b10-afae-28a8dbf76765",
   "metadata": {},
   "source": [
    "##### Loading Data"
   ]
  },
  {
   "cell_type": "code",
   "execution_count": 5,
   "id": "294a4105-7ead-4369-910a-e74b69259c2f",
   "metadata": {
    "tags": []
   },
   "outputs": [
    {
     "data": {
      "text/html": [
       "<div>\n",
       "<style scoped>\n",
       "    .dataframe tbody tr th:only-of-type {\n",
       "        vertical-align: middle;\n",
       "    }\n",
       "\n",
       "    .dataframe tbody tr th {\n",
       "        vertical-align: top;\n",
       "    }\n",
       "\n",
       "    .dataframe thead th {\n",
       "        text-align: right;\n",
       "    }\n",
       "</style>\n",
       "<table border=\"1\" class=\"dataframe\">\n",
       "  <thead>\n",
       "    <tr style=\"text-align: right;\">\n",
       "      <th></th>\n",
       "      <th>Taxon</th>\n",
       "      <th>Consensus</th>\n",
       "    </tr>\n",
       "    <tr>\n",
       "      <th>Feature ID</th>\n",
       "      <th></th>\n",
       "      <th></th>\n",
       "    </tr>\n",
       "  </thead>\n",
       "  <tbody>\n",
       "    <tr>\n",
       "      <th>f4f2731649deea1773042cf5d18a0a33</th>\n",
       "      <td>d__Eukaryota; p__Dinoflagellata; c__Dinophycea...</td>\n",
       "      <td>1.000000</td>\n",
       "    </tr>\n",
       "    <tr>\n",
       "      <th>dc99cb7f143b60159d9626ae5be10656</th>\n",
       "      <td>Unassigned</td>\n",
       "      <td>1.000000</td>\n",
       "    </tr>\n",
       "    <tr>\n",
       "      <th>82eb6703b24ac1c5e2e7384217cb6747</th>\n",
       "      <td>d__Bacteria; p__Bacteroidota; c__Bacteroidia; ...</td>\n",
       "      <td>0.666667</td>\n",
       "    </tr>\n",
       "  </tbody>\n",
       "</table>\n",
       "</div>"
      ],
      "text/plain": [
       "                                                                              Taxon  \\\n",
       "Feature ID                                                                            \n",
       "f4f2731649deea1773042cf5d18a0a33  d__Eukaryota; p__Dinoflagellata; c__Dinophycea...   \n",
       "dc99cb7f143b60159d9626ae5be10656                                         Unassigned   \n",
       "82eb6703b24ac1c5e2e7384217cb6747  d__Bacteria; p__Bacteroidota; c__Bacteroidia; ...   \n",
       "\n",
       "                                  Consensus  \n",
       "Feature ID                                   \n",
       "f4f2731649deea1773042cf5d18a0a33   1.000000  \n",
       "dc99cb7f143b60159d9626ae5be10656   1.000000  \n",
       "82eb6703b24ac1c5e2e7384217cb6747   0.666667  "
      ]
     },
     "execution_count": 5,
     "metadata": {},
     "output_type": "execute_result"
    }
   ],
   "source": [
    "#load in the taxonomy from tsv as a dataframe. index_col=0 to make row names the first column, and it is tab seperated instead of comma\n",
    "taxonomy = pd.read_csv(\"taxonomy.tsv\",sep='\\t', index_col = 0)\n",
    "taxonomy.head(3)"
   ]
  },
  {
   "cell_type": "markdown",
   "id": "af4d42a0-350e-432b-b5f3-07039e5d35b3",
   "metadata": {},
   "source": [
    "##### Data Cleaning:"
   ]
  },
  {
   "cell_type": "code",
   "execution_count": 16,
   "id": "ee874a0f-2a01-4d7e-bdd0-61ee0867c8db",
   "metadata": {
    "tags": []
   },
   "outputs": [
    {
     "data": {
      "text/html": [
       "<div>\n",
       "<style scoped>\n",
       "    .dataframe tbody tr th:only-of-type {\n",
       "        vertical-align: middle;\n",
       "    }\n",
       "\n",
       "    .dataframe tbody tr th {\n",
       "        vertical-align: top;\n",
       "    }\n",
       "\n",
       "    .dataframe thead th {\n",
       "        text-align: right;\n",
       "    }\n",
       "</style>\n",
       "<table border=\"1\" class=\"dataframe\">\n",
       "  <thead>\n",
       "    <tr style=\"text-align: right;\">\n",
       "      <th></th>\n",
       "      <th>Consensus</th>\n",
       "      <th>Domain</th>\n",
       "      <th>Phylum</th>\n",
       "      <th>Class</th>\n",
       "      <th>Order</th>\n",
       "      <th>Family</th>\n",
       "      <th>Genus</th>\n",
       "      <th>Species</th>\n",
       "    </tr>\n",
       "    <tr>\n",
       "      <th>Feature ID</th>\n",
       "      <th></th>\n",
       "      <th></th>\n",
       "      <th></th>\n",
       "      <th></th>\n",
       "      <th></th>\n",
       "      <th></th>\n",
       "      <th></th>\n",
       "      <th></th>\n",
       "    </tr>\n",
       "  </thead>\n",
       "  <tbody>\n",
       "    <tr>\n",
       "      <th>f4f2731649deea1773042cf5d18a0a33</th>\n",
       "      <td>1.000000</td>\n",
       "      <td>Eukaryota</td>\n",
       "      <td>Dinoflagellata</td>\n",
       "      <td>Dinophyceae</td>\n",
       "      <td>Gymnodiniphycidae</td>\n",
       "      <td>Suessiaceae</td>\n",
       "      <td>Symbiodinium</td>\n",
       "      <td>Symbiodinium_sp.</td>\n",
       "    </tr>\n",
       "    <tr>\n",
       "      <th>dc99cb7f143b60159d9626ae5be10656</th>\n",
       "      <td>1.000000</td>\n",
       "      <td>Unassigned</td>\n",
       "      <td>None</td>\n",
       "      <td>None</td>\n",
       "      <td>None</td>\n",
       "      <td>None</td>\n",
       "      <td>None</td>\n",
       "      <td>None</td>\n",
       "    </tr>\n",
       "    <tr>\n",
       "      <th>82eb6703b24ac1c5e2e7384217cb6747</th>\n",
       "      <td>0.666667</td>\n",
       "      <td>Bacteria</td>\n",
       "      <td>Bacteroidota</td>\n",
       "      <td>Bacteroidia</td>\n",
       "      <td>Flavobacteriales</td>\n",
       "      <td>Flavobacteriaceae</td>\n",
       "      <td>NS5_marine_group</td>\n",
       "      <td>uncultured_bacterium</td>\n",
       "    </tr>\n",
       "  </tbody>\n",
       "</table>\n",
       "</div>"
      ],
      "text/plain": [
       "                                  Consensus      Domain           Phylum  \\\n",
       "Feature ID                                                                 \n",
       "f4f2731649deea1773042cf5d18a0a33   1.000000   Eukaryota   Dinoflagellata   \n",
       "dc99cb7f143b60159d9626ae5be10656   1.000000  Unassigned             None   \n",
       "82eb6703b24ac1c5e2e7384217cb6747   0.666667    Bacteria     Bacteroidota   \n",
       "\n",
       "                                         Class               Order  \\\n",
       "Feature ID                                                           \n",
       "f4f2731649deea1773042cf5d18a0a33   Dinophyceae   Gymnodiniphycidae   \n",
       "dc99cb7f143b60159d9626ae5be10656          None                None   \n",
       "82eb6703b24ac1c5e2e7384217cb6747   Bacteroidia    Flavobacteriales   \n",
       "\n",
       "                                              Family              Genus  \\\n",
       "Feature ID                                                                \n",
       "f4f2731649deea1773042cf5d18a0a33         Suessiaceae       Symbiodinium   \n",
       "dc99cb7f143b60159d9626ae5be10656                None               None   \n",
       "82eb6703b24ac1c5e2e7384217cb6747   Flavobacteriaceae   NS5_marine_group   \n",
       "\n",
       "                                                Species  \n",
       "Feature ID                                               \n",
       "f4f2731649deea1773042cf5d18a0a33       Symbiodinium_sp.  \n",
       "dc99cb7f143b60159d9626ae5be10656                   None  \n",
       "82eb6703b24ac1c5e2e7384217cb6747   uncultured_bacterium  "
      ]
     },
     "execution_count": 16,
     "metadata": {},
     "output_type": "execute_result"
    }
   ],
   "source": [
    "#separate the different phylogenetic classifications (in the Taxon column) into different columns by the deliminater ;. expand=True makes it expand the results into different columns  \n",
    "#https://pandas.pydata.org/docs/reference/api/pandas.Series.str.split.html\n",
    "taxonomy_levels=taxonomy['Taxon'].str.split(';', expand=True)\n",
    "\n",
    "#remove the prefixes in the classifications in all taxa columns and replace with an empty string. regex=True argument means the replacement value will be a string \n",
    "#https://stackoverflow.com/questions/26837998/pandas-replace-nan-with-blank-empty-string\n",
    "#https://pandas.pydata.org/docs/reference/api/pandas.DataFrame.replace.html\n",
    "taxonomy_levels2 = taxonomy_levels.replace('[a-z]__', '', regex=True)\n",
    "\n",
    "#rename columns to correspond to taxonomic levels \n",
    "#https://pandas.pydata.org/docs/reference/api/pandas.DataFrame.rename.html\n",
    "taxonomy_levels_renamed=taxonomy_levels2.rename(columns={0: \"Domain\", 1: \"Phylum\", 2: \"Class\", 3:\"Order\", 4:\"Family\", 5: \"Genus\", 6: \"Species\"})\n",
    "\n",
    "#concatenate renamed taxa dataframe to original dataframe (axis=1 to concat along columns)\n",
    "taxa = pd.concat([taxonomy, taxonomy_levels_renamed], axis=1)\n",
    "#remove original \"Taxon\" column\n",
    "#https://pandas.pydata.org/docs/reference/api/pandas.DataFrame.drop.html\n",
    "taxa = taxa.drop('Taxon', axis=1)\n",
    "taxa.head(3)"
   ]
  },
  {
   "cell_type": "markdown",
   "id": "ba7ae1d0-c570-4f66-b698-afa09775ebd9",
   "metadata": {},
   "source": [
    "##### Loading Data"
   ]
  },
  {
   "cell_type": "code",
   "execution_count": 75,
   "id": "c113fb97-b5d6-44a2-b610-9ff13b6be0c6",
   "metadata": {
    "tags": []
   },
   "outputs": [
    {
     "ename": "FileNotFoundError",
     "evalue": "[Errno 2] No such file or directory: 'feature-table.tsv'",
     "output_type": "error",
     "traceback": [
      "\u001b[0;31m---------------------------------------------------------------------------\u001b[0m",
      "\u001b[0;31mFileNotFoundError\u001b[0m                         Traceback (most recent call last)",
      "Cell \u001b[0;32mIn[75], line 4\u001b[0m\n\u001b[1;32m      1\u001b[0m \u001b[38;5;66;03m#unzip feature-table.tsv.gz in terminal (had to zip to upload to github)\u001b[39;00m\n\u001b[1;32m      2\u001b[0m \u001b[38;5;66;03m#gunzip feature-table.tsv.gz \u001b[39;00m\n\u001b[1;32m      3\u001b[0m \u001b[38;5;66;03m#load in the feature-table from tsv as a dataframe. index_col=0 to make row names the first column, and it is tab seperated instead of comma\u001b[39;00m\n\u001b[0;32m----> 4\u001b[0m counts \u001b[38;5;241m=\u001b[39m pd\u001b[38;5;241m.\u001b[39mread_csv(\u001b[38;5;124m\"\u001b[39m\u001b[38;5;124mfeature-table.tsv\u001b[39m\u001b[38;5;124m\"\u001b[39m,sep\u001b[38;5;241m=\u001b[39m\u001b[38;5;124m'\u001b[39m\u001b[38;5;130;01m\\t\u001b[39;00m\u001b[38;5;124m'\u001b[39m, skiprows\u001b[38;5;241m=\u001b[39m\u001b[38;5;241m1\u001b[39m,index_col \u001b[38;5;241m=\u001b[39m \u001b[38;5;241m0\u001b[39m)\n\u001b[1;32m      5\u001b[0m counts\u001b[38;5;241m.\u001b[39mhead(\u001b[38;5;241m3\u001b[39m)\n",
      "File \u001b[0;32m~/anaconda3/lib/python3.11/site-packages/pandas/util/_decorators.py:211\u001b[0m, in \u001b[0;36mdeprecate_kwarg.<locals>._deprecate_kwarg.<locals>.wrapper\u001b[0;34m(*args, **kwargs)\u001b[0m\n\u001b[1;32m    209\u001b[0m     \u001b[38;5;28;01melse\u001b[39;00m:\n\u001b[1;32m    210\u001b[0m         kwargs[new_arg_name] \u001b[38;5;241m=\u001b[39m new_arg_value\n\u001b[0;32m--> 211\u001b[0m \u001b[38;5;28;01mreturn\u001b[39;00m func(\u001b[38;5;241m*\u001b[39margs, \u001b[38;5;241m*\u001b[39m\u001b[38;5;241m*\u001b[39mkwargs)\n",
      "File \u001b[0;32m~/anaconda3/lib/python3.11/site-packages/pandas/util/_decorators.py:331\u001b[0m, in \u001b[0;36mdeprecate_nonkeyword_arguments.<locals>.decorate.<locals>.wrapper\u001b[0;34m(*args, **kwargs)\u001b[0m\n\u001b[1;32m    325\u001b[0m \u001b[38;5;28;01mif\u001b[39;00m \u001b[38;5;28mlen\u001b[39m(args) \u001b[38;5;241m>\u001b[39m num_allow_args:\n\u001b[1;32m    326\u001b[0m     warnings\u001b[38;5;241m.\u001b[39mwarn(\n\u001b[1;32m    327\u001b[0m         msg\u001b[38;5;241m.\u001b[39mformat(arguments\u001b[38;5;241m=\u001b[39m_format_argument_list(allow_args)),\n\u001b[1;32m    328\u001b[0m         \u001b[38;5;167;01mFutureWarning\u001b[39;00m,\n\u001b[1;32m    329\u001b[0m         stacklevel\u001b[38;5;241m=\u001b[39mfind_stack_level(),\n\u001b[1;32m    330\u001b[0m     )\n\u001b[0;32m--> 331\u001b[0m \u001b[38;5;28;01mreturn\u001b[39;00m func(\u001b[38;5;241m*\u001b[39margs, \u001b[38;5;241m*\u001b[39m\u001b[38;5;241m*\u001b[39mkwargs)\n",
      "File \u001b[0;32m~/anaconda3/lib/python3.11/site-packages/pandas/io/parsers/readers.py:950\u001b[0m, in \u001b[0;36mread_csv\u001b[0;34m(filepath_or_buffer, sep, delimiter, header, names, index_col, usecols, squeeze, prefix, mangle_dupe_cols, dtype, engine, converters, true_values, false_values, skipinitialspace, skiprows, skipfooter, nrows, na_values, keep_default_na, na_filter, verbose, skip_blank_lines, parse_dates, infer_datetime_format, keep_date_col, date_parser, dayfirst, cache_dates, iterator, chunksize, compression, thousands, decimal, lineterminator, quotechar, quoting, doublequote, escapechar, comment, encoding, encoding_errors, dialect, error_bad_lines, warn_bad_lines, on_bad_lines, delim_whitespace, low_memory, memory_map, float_precision, storage_options)\u001b[0m\n\u001b[1;32m    935\u001b[0m kwds_defaults \u001b[38;5;241m=\u001b[39m _refine_defaults_read(\n\u001b[1;32m    936\u001b[0m     dialect,\n\u001b[1;32m    937\u001b[0m     delimiter,\n\u001b[0;32m   (...)\u001b[0m\n\u001b[1;32m    946\u001b[0m     defaults\u001b[38;5;241m=\u001b[39m{\u001b[38;5;124m\"\u001b[39m\u001b[38;5;124mdelimiter\u001b[39m\u001b[38;5;124m\"\u001b[39m: \u001b[38;5;124m\"\u001b[39m\u001b[38;5;124m,\u001b[39m\u001b[38;5;124m\"\u001b[39m},\n\u001b[1;32m    947\u001b[0m )\n\u001b[1;32m    948\u001b[0m kwds\u001b[38;5;241m.\u001b[39mupdate(kwds_defaults)\n\u001b[0;32m--> 950\u001b[0m \u001b[38;5;28;01mreturn\u001b[39;00m _read(filepath_or_buffer, kwds)\n",
      "File \u001b[0;32m~/anaconda3/lib/python3.11/site-packages/pandas/io/parsers/readers.py:605\u001b[0m, in \u001b[0;36m_read\u001b[0;34m(filepath_or_buffer, kwds)\u001b[0m\n\u001b[1;32m    602\u001b[0m _validate_names(kwds\u001b[38;5;241m.\u001b[39mget(\u001b[38;5;124m\"\u001b[39m\u001b[38;5;124mnames\u001b[39m\u001b[38;5;124m\"\u001b[39m, \u001b[38;5;28;01mNone\u001b[39;00m))\n\u001b[1;32m    604\u001b[0m \u001b[38;5;66;03m# Create the parser.\u001b[39;00m\n\u001b[0;32m--> 605\u001b[0m parser \u001b[38;5;241m=\u001b[39m TextFileReader(filepath_or_buffer, \u001b[38;5;241m*\u001b[39m\u001b[38;5;241m*\u001b[39mkwds)\n\u001b[1;32m    607\u001b[0m \u001b[38;5;28;01mif\u001b[39;00m chunksize \u001b[38;5;129;01mor\u001b[39;00m iterator:\n\u001b[1;32m    608\u001b[0m     \u001b[38;5;28;01mreturn\u001b[39;00m parser\n",
      "File \u001b[0;32m~/anaconda3/lib/python3.11/site-packages/pandas/io/parsers/readers.py:1442\u001b[0m, in \u001b[0;36mTextFileReader.__init__\u001b[0;34m(self, f, engine, **kwds)\u001b[0m\n\u001b[1;32m   1439\u001b[0m     \u001b[38;5;28mself\u001b[39m\u001b[38;5;241m.\u001b[39moptions[\u001b[38;5;124m\"\u001b[39m\u001b[38;5;124mhas_index_names\u001b[39m\u001b[38;5;124m\"\u001b[39m] \u001b[38;5;241m=\u001b[39m kwds[\u001b[38;5;124m\"\u001b[39m\u001b[38;5;124mhas_index_names\u001b[39m\u001b[38;5;124m\"\u001b[39m]\n\u001b[1;32m   1441\u001b[0m \u001b[38;5;28mself\u001b[39m\u001b[38;5;241m.\u001b[39mhandles: IOHandles \u001b[38;5;241m|\u001b[39m \u001b[38;5;28;01mNone\u001b[39;00m \u001b[38;5;241m=\u001b[39m \u001b[38;5;28;01mNone\u001b[39;00m\n\u001b[0;32m-> 1442\u001b[0m \u001b[38;5;28mself\u001b[39m\u001b[38;5;241m.\u001b[39m_engine \u001b[38;5;241m=\u001b[39m \u001b[38;5;28mself\u001b[39m\u001b[38;5;241m.\u001b[39m_make_engine(f, \u001b[38;5;28mself\u001b[39m\u001b[38;5;241m.\u001b[39mengine)\n",
      "File \u001b[0;32m~/anaconda3/lib/python3.11/site-packages/pandas/io/parsers/readers.py:1735\u001b[0m, in \u001b[0;36mTextFileReader._make_engine\u001b[0;34m(self, f, engine)\u001b[0m\n\u001b[1;32m   1733\u001b[0m     \u001b[38;5;28;01mif\u001b[39;00m \u001b[38;5;124m\"\u001b[39m\u001b[38;5;124mb\u001b[39m\u001b[38;5;124m\"\u001b[39m \u001b[38;5;129;01mnot\u001b[39;00m \u001b[38;5;129;01min\u001b[39;00m mode:\n\u001b[1;32m   1734\u001b[0m         mode \u001b[38;5;241m+\u001b[39m\u001b[38;5;241m=\u001b[39m \u001b[38;5;124m\"\u001b[39m\u001b[38;5;124mb\u001b[39m\u001b[38;5;124m\"\u001b[39m\n\u001b[0;32m-> 1735\u001b[0m \u001b[38;5;28mself\u001b[39m\u001b[38;5;241m.\u001b[39mhandles \u001b[38;5;241m=\u001b[39m get_handle(\n\u001b[1;32m   1736\u001b[0m     f,\n\u001b[1;32m   1737\u001b[0m     mode,\n\u001b[1;32m   1738\u001b[0m     encoding\u001b[38;5;241m=\u001b[39m\u001b[38;5;28mself\u001b[39m\u001b[38;5;241m.\u001b[39moptions\u001b[38;5;241m.\u001b[39mget(\u001b[38;5;124m\"\u001b[39m\u001b[38;5;124mencoding\u001b[39m\u001b[38;5;124m\"\u001b[39m, \u001b[38;5;28;01mNone\u001b[39;00m),\n\u001b[1;32m   1739\u001b[0m     compression\u001b[38;5;241m=\u001b[39m\u001b[38;5;28mself\u001b[39m\u001b[38;5;241m.\u001b[39moptions\u001b[38;5;241m.\u001b[39mget(\u001b[38;5;124m\"\u001b[39m\u001b[38;5;124mcompression\u001b[39m\u001b[38;5;124m\"\u001b[39m, \u001b[38;5;28;01mNone\u001b[39;00m),\n\u001b[1;32m   1740\u001b[0m     memory_map\u001b[38;5;241m=\u001b[39m\u001b[38;5;28mself\u001b[39m\u001b[38;5;241m.\u001b[39moptions\u001b[38;5;241m.\u001b[39mget(\u001b[38;5;124m\"\u001b[39m\u001b[38;5;124mmemory_map\u001b[39m\u001b[38;5;124m\"\u001b[39m, \u001b[38;5;28;01mFalse\u001b[39;00m),\n\u001b[1;32m   1741\u001b[0m     is_text\u001b[38;5;241m=\u001b[39mis_text,\n\u001b[1;32m   1742\u001b[0m     errors\u001b[38;5;241m=\u001b[39m\u001b[38;5;28mself\u001b[39m\u001b[38;5;241m.\u001b[39moptions\u001b[38;5;241m.\u001b[39mget(\u001b[38;5;124m\"\u001b[39m\u001b[38;5;124mencoding_errors\u001b[39m\u001b[38;5;124m\"\u001b[39m, \u001b[38;5;124m\"\u001b[39m\u001b[38;5;124mstrict\u001b[39m\u001b[38;5;124m\"\u001b[39m),\n\u001b[1;32m   1743\u001b[0m     storage_options\u001b[38;5;241m=\u001b[39m\u001b[38;5;28mself\u001b[39m\u001b[38;5;241m.\u001b[39moptions\u001b[38;5;241m.\u001b[39mget(\u001b[38;5;124m\"\u001b[39m\u001b[38;5;124mstorage_options\u001b[39m\u001b[38;5;124m\"\u001b[39m, \u001b[38;5;28;01mNone\u001b[39;00m),\n\u001b[1;32m   1744\u001b[0m )\n\u001b[1;32m   1745\u001b[0m \u001b[38;5;28;01massert\u001b[39;00m \u001b[38;5;28mself\u001b[39m\u001b[38;5;241m.\u001b[39mhandles \u001b[38;5;129;01mis\u001b[39;00m \u001b[38;5;129;01mnot\u001b[39;00m \u001b[38;5;28;01mNone\u001b[39;00m\n\u001b[1;32m   1746\u001b[0m f \u001b[38;5;241m=\u001b[39m \u001b[38;5;28mself\u001b[39m\u001b[38;5;241m.\u001b[39mhandles\u001b[38;5;241m.\u001b[39mhandle\n",
      "File \u001b[0;32m~/anaconda3/lib/python3.11/site-packages/pandas/io/common.py:856\u001b[0m, in \u001b[0;36mget_handle\u001b[0;34m(path_or_buf, mode, encoding, compression, memory_map, is_text, errors, storage_options)\u001b[0m\n\u001b[1;32m    851\u001b[0m \u001b[38;5;28;01melif\u001b[39;00m \u001b[38;5;28misinstance\u001b[39m(handle, \u001b[38;5;28mstr\u001b[39m):\n\u001b[1;32m    852\u001b[0m     \u001b[38;5;66;03m# Check whether the filename is to be opened in binary mode.\u001b[39;00m\n\u001b[1;32m    853\u001b[0m     \u001b[38;5;66;03m# Binary mode does not support 'encoding' and 'newline'.\u001b[39;00m\n\u001b[1;32m    854\u001b[0m     \u001b[38;5;28;01mif\u001b[39;00m ioargs\u001b[38;5;241m.\u001b[39mencoding \u001b[38;5;129;01mand\u001b[39;00m \u001b[38;5;124m\"\u001b[39m\u001b[38;5;124mb\u001b[39m\u001b[38;5;124m\"\u001b[39m \u001b[38;5;129;01mnot\u001b[39;00m \u001b[38;5;129;01min\u001b[39;00m ioargs\u001b[38;5;241m.\u001b[39mmode:\n\u001b[1;32m    855\u001b[0m         \u001b[38;5;66;03m# Encoding\u001b[39;00m\n\u001b[0;32m--> 856\u001b[0m         handle \u001b[38;5;241m=\u001b[39m \u001b[38;5;28mopen\u001b[39m(\n\u001b[1;32m    857\u001b[0m             handle,\n\u001b[1;32m    858\u001b[0m             ioargs\u001b[38;5;241m.\u001b[39mmode,\n\u001b[1;32m    859\u001b[0m             encoding\u001b[38;5;241m=\u001b[39mioargs\u001b[38;5;241m.\u001b[39mencoding,\n\u001b[1;32m    860\u001b[0m             errors\u001b[38;5;241m=\u001b[39merrors,\n\u001b[1;32m    861\u001b[0m             newline\u001b[38;5;241m=\u001b[39m\u001b[38;5;124m\"\u001b[39m\u001b[38;5;124m\"\u001b[39m,\n\u001b[1;32m    862\u001b[0m         )\n\u001b[1;32m    863\u001b[0m     \u001b[38;5;28;01melse\u001b[39;00m:\n\u001b[1;32m    864\u001b[0m         \u001b[38;5;66;03m# Binary mode\u001b[39;00m\n\u001b[1;32m    865\u001b[0m         handle \u001b[38;5;241m=\u001b[39m \u001b[38;5;28mopen\u001b[39m(handle, ioargs\u001b[38;5;241m.\u001b[39mmode)\n",
      "\u001b[0;31mFileNotFoundError\u001b[0m: [Errno 2] No such file or directory: 'feature-table.tsv'"
     ]
    }
   ],
   "source": [
    "#unzip feature-table.tsv.gz in terminal (had to zip to upload to github)\n",
    "#gunzip feature-table.tsv.gz \n",
    "#load in the feature-table from tsv as a dataframe. index_col=0 to make row names the first column, and it is tab seperated instead of comma\n",
    "counts = pd.read_csv(\"feature-table.tsv\",sep='\\t', skiprows=1,index_col = 0)\n",
    "counts.head(3)"
   ]
  },
  {
   "cell_type": "markdown",
   "id": "0c12d629-4439-49bf-8c1d-baa7f52f1e84",
   "metadata": {
    "tags": []
   },
   "source": [
    "#### 3.2 Describe Data Numerically "
   ]
  },
  {
   "cell_type": "code",
   "execution_count": 62,
   "id": "a443fd75-6849-40f1-974a-866135ad18ec",
   "metadata": {
    "tags": []
   },
   "outputs": [
    {
     "data": {
      "text/plain": [
       "(2444, 68)"
      ]
     },
     "execution_count": 62,
     "metadata": {},
     "output_type": "execute_result"
    }
   ],
   "source": [
    "meta.shape"
   ]
  },
  {
   "cell_type": "markdown",
   "id": "ff8d68b2-ac87-4203-98d9-054bb9efd032",
   "metadata": {},
   "source": [
    "- The meta dataframe has 2444 rows corresponding to 2444 samples/observations (from 16 different studies - each contributing a different number of samples) \n",
    "- and 68 columns which corresponds to 68 different features of metadata (including the study the samples came from, collection info, etc.)"
   ]
  },
  {
   "cell_type": "code",
   "execution_count": 63,
   "id": "4d5b75db-071e-4699-b317-a6055e340e60",
   "metadata": {
    "tags": []
   },
   "outputs": [
    {
     "data": {
      "text/plain": [
       "(119456, 2425)"
      ]
     },
     "execution_count": 63,
     "metadata": {},
     "output_type": "execute_result"
    }
   ],
   "source": [
    "counts.shape"
   ]
  },
  {
   "cell_type": "markdown",
   "id": "b59e257a-bd63-4246-a89a-48450cfbec12",
   "metadata": {},
   "source": [
    "- Counts dataframe has 119456 rows which are the features. Each corresponds to a unique OTU (Operational Taxonomic Unit) which is just different microbial groups \n",
    "- and 2425 columns - correspond to 2425 samples/observations (one study was excluded because it was not focused on  SCTLD) which is why it differs from the metadata which includes all the studies. "
   ]
  },
  {
   "cell_type": "code",
   "execution_count": 64,
   "id": "85b07974-9f38-4c5f-a8e8-3d488237bbb5",
   "metadata": {
    "tags": []
   },
   "outputs": [
    {
     "data": {
      "text/plain": [
       "(147455, 8)"
      ]
     },
     "execution_count": 64,
     "metadata": {},
     "output_type": "execute_result"
    }
   ],
   "source": [
    "taxa.shape"
   ]
  },
  {
   "cell_type": "markdown",
   "id": "023bf760-8def-4555-844d-16f5fe248f0d",
   "metadata": {},
   "source": [
    "- Taxa dataframe has 147455 rows which are the features. Each corresponds to a unique feature ID - the same as an OTU (I am not sure why the use different terms)\n",
    "- and 8 columns which contain the features - The taxonomic classifications which span 7 rows and the consensus which is the confidence value that each feature id matches the sequence. "
   ]
  },
  {
   "cell_type": "markdown",
   "id": "51886db7-b4db-4d25-aace-05a4ca628f67",
   "metadata": {},
   "source": [
    "###### \"Describe\" function expectations:\n",
    "- meta - feature 'colony_percent_diseased'\n",
    "    - i think the average will be ~50%. I think about half of the observations will have that feature and it will vary from 0-100% so it will average around 50%\n",
    "- meta - feature 'colony_max_diameter'\n",
    "    - i think most observations have this feature except some studies that did not measure this. I would estimate the average will be around 100cm. "
   ]
  },
  {
   "cell_type": "code",
   "execution_count": 70,
   "id": "a96ef8e4-0dd8-4c67-865f-d307ca93a0a3",
   "metadata": {
    "tags": []
   },
   "outputs": [
    {
     "data": {
      "text/plain": [
       "count     1577\n",
       "unique      30\n",
       "top        TBD\n",
       "freq       788\n",
       "Name: colony_percent_diseased, dtype: object"
      ]
     },
     "execution_count": 70,
     "metadata": {},
     "output_type": "execute_result"
    }
   ],
   "source": [
    "meta['colony_percent_diseased'].describe()"
   ]
  },
  {
   "cell_type": "markdown",
   "id": "d67aaf06-c2aa-49af-a9df-ef65475243c7",
   "metadata": {},
   "source": [
    "- I did not realize that not all the entries were numerical values, so the describe function did not have an output that I expected\n",
    "- there were many \"TBD\" entries that were unexpected, and because of all the string values it did not give the average value"
   ]
  },
  {
   "cell_type": "code",
   "execution_count": 71,
   "id": "26b43304-5aaf-437f-97a4-edcf2ee7a460",
   "metadata": {
    "tags": []
   },
   "outputs": [
    {
     "data": {
      "text/plain": [
       "count     1134\n",
       "unique      71\n",
       "top        TBD\n",
       "freq       439\n",
       "Name: colony_max_diameter, dtype: object"
      ]
     },
     "execution_count": 71,
     "metadata": {},
     "output_type": "execute_result"
    }
   ],
   "source": [
    "meta['colony_max_diameter'].describe()"
   ]
  },
  {
   "cell_type": "markdown",
   "id": "f45b96cb-f532-40d3-8419-3f42a3060857",
   "metadata": {},
   "source": [
    "- Similary to above, I did not realize that not all the entries were numerical values, so the describe function did not have an output that I expected\n",
    "- there were many \"TBD\" entries that were unexpected, and because of all the string values it did not give the average value. Only 439 samples had measured diameters which was less than I expected. "
   ]
  },
  {
   "cell_type": "code",
   "execution_count": 72,
   "id": "19de03f9-c464-4545-b003-01a1f2212674",
   "metadata": {
    "tags": []
   },
   "outputs": [
    {
     "data": {
      "text/html": [
       "<div>\n",
       "<style scoped>\n",
       "    .dataframe tbody tr th:only-of-type {\n",
       "        vertical-align: middle;\n",
       "    }\n",
       "\n",
       "    .dataframe tbody tr th {\n",
       "        vertical-align: top;\n",
       "    }\n",
       "\n",
       "    .dataframe thead th {\n",
       "        text-align: right;\n",
       "    }\n",
       "</style>\n",
       "<table border=\"1\" class=\"dataframe\">\n",
       "  <thead>\n",
       "    <tr style=\"text-align: right;\">\n",
       "      <th></th>\n",
       "      <th>100tiss_S31</th>\n",
       "      <th>102tiss_S3</th>\n",
       "      <th>104tiss_S32</th>\n",
       "      <th>168eco_S8</th>\n",
       "      <th>171eco_S9</th>\n",
       "      <th>172eco_S10</th>\n",
       "      <th>173eco_S11</th>\n",
       "      <th>175eco_S12</th>\n",
       "      <th>181eco_S14</th>\n",
       "      <th>183eco_S15</th>\n",
       "      <th>...</th>\n",
       "      <th>W4Aug23</th>\n",
       "      <th>W4Aug28</th>\n",
       "      <th>W4Oct2</th>\n",
       "      <th>W4Sep9</th>\n",
       "      <th>W62Aug23</th>\n",
       "      <th>W62Aug26</th>\n",
       "      <th>W7Aug23</th>\n",
       "      <th>W7Aug28</th>\n",
       "      <th>W7Sep15</th>\n",
       "      <th>W7Sep9</th>\n",
       "    </tr>\n",
       "    <tr>\n",
       "      <th>#OTU ID</th>\n",
       "      <th></th>\n",
       "      <th></th>\n",
       "      <th></th>\n",
       "      <th></th>\n",
       "      <th></th>\n",
       "      <th></th>\n",
       "      <th></th>\n",
       "      <th></th>\n",
       "      <th></th>\n",
       "      <th></th>\n",
       "      <th></th>\n",
       "      <th></th>\n",
       "      <th></th>\n",
       "      <th></th>\n",
       "      <th></th>\n",
       "      <th></th>\n",
       "      <th></th>\n",
       "      <th></th>\n",
       "      <th></th>\n",
       "      <th></th>\n",
       "      <th></th>\n",
       "    </tr>\n",
       "  </thead>\n",
       "  <tbody>\n",
       "    <tr>\n",
       "      <th>3c025d6a19302802d61600c5a47be873</th>\n",
       "      <td>0.0</td>\n",
       "      <td>0.0</td>\n",
       "      <td>0.0</td>\n",
       "      <td>0.0</td>\n",
       "      <td>0.0</td>\n",
       "      <td>0.0</td>\n",
       "      <td>0.0</td>\n",
       "      <td>0.0</td>\n",
       "      <td>0.0</td>\n",
       "      <td>0.0</td>\n",
       "      <td>...</td>\n",
       "      <td>0.0</td>\n",
       "      <td>0.0</td>\n",
       "      <td>0.0</td>\n",
       "      <td>0.0</td>\n",
       "      <td>0.0</td>\n",
       "      <td>0.0</td>\n",
       "      <td>0.0</td>\n",
       "      <td>0.0</td>\n",
       "      <td>0.0</td>\n",
       "      <td>0.0</td>\n",
       "    </tr>\n",
       "    <tr>\n",
       "      <th>15632e3b84cd5b1e8146f6a3ddc9bc87</th>\n",
       "      <td>0.0</td>\n",
       "      <td>0.0</td>\n",
       "      <td>0.0</td>\n",
       "      <td>0.0</td>\n",
       "      <td>0.0</td>\n",
       "      <td>0.0</td>\n",
       "      <td>0.0</td>\n",
       "      <td>0.0</td>\n",
       "      <td>0.0</td>\n",
       "      <td>0.0</td>\n",
       "      <td>...</td>\n",
       "      <td>0.0</td>\n",
       "      <td>0.0</td>\n",
       "      <td>0.0</td>\n",
       "      <td>0.0</td>\n",
       "      <td>0.0</td>\n",
       "      <td>0.0</td>\n",
       "      <td>32.0</td>\n",
       "      <td>0.0</td>\n",
       "      <td>20.0</td>\n",
       "      <td>0.0</td>\n",
       "    </tr>\n",
       "    <tr>\n",
       "      <th>53cfc5c67e76077d5cea348037152f9f</th>\n",
       "      <td>0.0</td>\n",
       "      <td>0.0</td>\n",
       "      <td>0.0</td>\n",
       "      <td>0.0</td>\n",
       "      <td>0.0</td>\n",
       "      <td>0.0</td>\n",
       "      <td>0.0</td>\n",
       "      <td>0.0</td>\n",
       "      <td>0.0</td>\n",
       "      <td>0.0</td>\n",
       "      <td>...</td>\n",
       "      <td>0.0</td>\n",
       "      <td>0.0</td>\n",
       "      <td>0.0</td>\n",
       "      <td>0.0</td>\n",
       "      <td>0.0</td>\n",
       "      <td>0.0</td>\n",
       "      <td>0.0</td>\n",
       "      <td>0.0</td>\n",
       "      <td>0.0</td>\n",
       "      <td>0.0</td>\n",
       "    </tr>\n",
       "    <tr>\n",
       "      <th>70398316b6aa3a3411bb38f93f3f84d5</th>\n",
       "      <td>0.0</td>\n",
       "      <td>0.0</td>\n",
       "      <td>0.0</td>\n",
       "      <td>0.0</td>\n",
       "      <td>0.0</td>\n",
       "      <td>0.0</td>\n",
       "      <td>0.0</td>\n",
       "      <td>0.0</td>\n",
       "      <td>0.0</td>\n",
       "      <td>0.0</td>\n",
       "      <td>...</td>\n",
       "      <td>0.0</td>\n",
       "      <td>0.0</td>\n",
       "      <td>0.0</td>\n",
       "      <td>0.0</td>\n",
       "      <td>0.0</td>\n",
       "      <td>0.0</td>\n",
       "      <td>0.0</td>\n",
       "      <td>0.0</td>\n",
       "      <td>0.0</td>\n",
       "      <td>0.0</td>\n",
       "    </tr>\n",
       "    <tr>\n",
       "      <th>b444ef705ef2a760ff3bfec26c6fe3b7</th>\n",
       "      <td>0.0</td>\n",
       "      <td>0.0</td>\n",
       "      <td>0.0</td>\n",
       "      <td>0.0</td>\n",
       "      <td>0.0</td>\n",
       "      <td>0.0</td>\n",
       "      <td>0.0</td>\n",
       "      <td>0.0</td>\n",
       "      <td>0.0</td>\n",
       "      <td>0.0</td>\n",
       "      <td>...</td>\n",
       "      <td>0.0</td>\n",
       "      <td>0.0</td>\n",
       "      <td>0.0</td>\n",
       "      <td>0.0</td>\n",
       "      <td>0.0</td>\n",
       "      <td>0.0</td>\n",
       "      <td>0.0</td>\n",
       "      <td>0.0</td>\n",
       "      <td>0.0</td>\n",
       "      <td>0.0</td>\n",
       "    </tr>\n",
       "  </tbody>\n",
       "</table>\n",
       "<p>5 rows × 2425 columns</p>\n",
       "</div>"
      ],
      "text/plain": [
       "                                  100tiss_S31  102tiss_S3  104tiss_S32  \\\n",
       "#OTU ID                                                                  \n",
       "3c025d6a19302802d61600c5a47be873          0.0         0.0          0.0   \n",
       "15632e3b84cd5b1e8146f6a3ddc9bc87          0.0         0.0          0.0   \n",
       "53cfc5c67e76077d5cea348037152f9f          0.0         0.0          0.0   \n",
       "70398316b6aa3a3411bb38f93f3f84d5          0.0         0.0          0.0   \n",
       "b444ef705ef2a760ff3bfec26c6fe3b7          0.0         0.0          0.0   \n",
       "\n",
       "                                  168eco_S8  171eco_S9  172eco_S10  \\\n",
       "#OTU ID                                                              \n",
       "3c025d6a19302802d61600c5a47be873        0.0        0.0         0.0   \n",
       "15632e3b84cd5b1e8146f6a3ddc9bc87        0.0        0.0         0.0   \n",
       "53cfc5c67e76077d5cea348037152f9f        0.0        0.0         0.0   \n",
       "70398316b6aa3a3411bb38f93f3f84d5        0.0        0.0         0.0   \n",
       "b444ef705ef2a760ff3bfec26c6fe3b7        0.0        0.0         0.0   \n",
       "\n",
       "                                  173eco_S11  175eco_S12  181eco_S14  \\\n",
       "#OTU ID                                                                \n",
       "3c025d6a19302802d61600c5a47be873         0.0         0.0         0.0   \n",
       "15632e3b84cd5b1e8146f6a3ddc9bc87         0.0         0.0         0.0   \n",
       "53cfc5c67e76077d5cea348037152f9f         0.0         0.0         0.0   \n",
       "70398316b6aa3a3411bb38f93f3f84d5         0.0         0.0         0.0   \n",
       "b444ef705ef2a760ff3bfec26c6fe3b7         0.0         0.0         0.0   \n",
       "\n",
       "                                  183eco_S15  ...  W4Aug23  W4Aug28  W4Oct2  \\\n",
       "#OTU ID                                       ...                             \n",
       "3c025d6a19302802d61600c5a47be873         0.0  ...      0.0      0.0     0.0   \n",
       "15632e3b84cd5b1e8146f6a3ddc9bc87         0.0  ...      0.0      0.0     0.0   \n",
       "53cfc5c67e76077d5cea348037152f9f         0.0  ...      0.0      0.0     0.0   \n",
       "70398316b6aa3a3411bb38f93f3f84d5         0.0  ...      0.0      0.0     0.0   \n",
       "b444ef705ef2a760ff3bfec26c6fe3b7         0.0  ...      0.0      0.0     0.0   \n",
       "\n",
       "                                  W4Sep9  W62Aug23  W62Aug26  W7Aug23  \\\n",
       "#OTU ID                                                                 \n",
       "3c025d6a19302802d61600c5a47be873     0.0       0.0       0.0      0.0   \n",
       "15632e3b84cd5b1e8146f6a3ddc9bc87     0.0       0.0       0.0     32.0   \n",
       "53cfc5c67e76077d5cea348037152f9f     0.0       0.0       0.0      0.0   \n",
       "70398316b6aa3a3411bb38f93f3f84d5     0.0       0.0       0.0      0.0   \n",
       "b444ef705ef2a760ff3bfec26c6fe3b7     0.0       0.0       0.0      0.0   \n",
       "\n",
       "                                  W7Aug28  W7Sep15  W7Sep9  \n",
       "#OTU ID                                                     \n",
       "3c025d6a19302802d61600c5a47be873      0.0      0.0     0.0  \n",
       "15632e3b84cd5b1e8146f6a3ddc9bc87      0.0     20.0     0.0  \n",
       "53cfc5c67e76077d5cea348037152f9f      0.0      0.0     0.0  \n",
       "70398316b6aa3a3411bb38f93f3f84d5      0.0      0.0     0.0  \n",
       "b444ef705ef2a760ff3bfec26c6fe3b7      0.0      0.0     0.0  \n",
       "\n",
       "[5 rows x 2425 columns]"
      ]
     },
     "execution_count": 72,
     "metadata": {},
     "output_type": "execute_result"
    }
   ],
   "source": [
    "counts.head(5)"
   ]
  },
  {
   "cell_type": "markdown",
   "id": "c8956791-d642-4443-acb9-31f67cdad256",
   "metadata": {
    "tags": []
   },
   "source": [
    "###### \"Describe\" function expectations:\n",
    "- counts - feature (OTU ID) 3c025d6a19302802d61600c5a47be873\n",
    "    - based on looking at the data it looks like there will be mostly 0s (meaning not many of the observations have this feature) and probably a few very high numbers, so I anticipate the average will be close to 0. \n",
    "- counts - feature (OTU ID) 15632e3b84cd5b1e8146f6a3ddc9bc87\n",
    "    - same idea as above, not all of the observations have this feature so most of the values will be 0, and the average will be around 0. "
   ]
  },
  {
   "cell_type": "code",
   "execution_count": 73,
   "id": "c566f1c5-c136-4f87-9c54-ab146bb4b41f",
   "metadata": {
    "tags": []
   },
   "outputs": [
    {
     "data": {
      "text/plain": [
       "count    2425.000000\n",
       "mean        0.009485\n",
       "std         0.467059\n",
       "min         0.000000\n",
       "25%         0.000000\n",
       "50%         0.000000\n",
       "75%         0.000000\n",
       "max        23.000000\n",
       "Name: 3c025d6a19302802d61600c5a47be873, dtype: float64"
      ]
     },
     "execution_count": 73,
     "metadata": {},
     "output_type": "execute_result"
    }
   ],
   "source": [
    "counts.loc['3c025d6a19302802d61600c5a47be873',:].describe()"
   ]
  },
  {
   "cell_type": "code",
   "execution_count": 76,
   "id": "78d151c3-3a22-4812-ae1e-36ba623fc9e4",
   "metadata": {
    "tags": []
   },
   "outputs": [
    {
     "data": {
      "text/plain": [
       "count    2425.000000\n",
       "mean        0.146804\n",
       "std         2.375596\n",
       "min         0.000000\n",
       "25%         0.000000\n",
       "50%         0.000000\n",
       "75%         0.000000\n",
       "max        71.000000\n",
       "Name: 15632e3b84cd5b1e8146f6a3ddc9bc87, dtype: float64"
      ]
     },
     "execution_count": 76,
     "metadata": {},
     "output_type": "execute_result"
    }
   ],
   "source": [
    "counts.loc['15632e3b84cd5b1e8146f6a3ddc9bc87',:].describe()"
   ]
  },
  {
   "cell_type": "markdown",
   "id": "f6a34e3e-edb4-41d5-95e3-b408df5e21da",
   "metadata": {},
   "source": [
    "- as i expected, the mean was around 0. Though it was closer to 0 in the first feature. I did not expect the maxes to be so low on both of them. I thought they would be in the thousands. The std deviation also surprised me by being so low in the first one, but it makes since so many of the values were 0. "
   ]
  },
  {
   "cell_type": "markdown",
   "id": "87be2ea2-f1f7-458c-96ed-0aaec4422850",
   "metadata": {},
   "source": [
    "- the mean was higher than i expected at about 80% meaning more observations than i expecetd had a 100% confidence value. I also expected the min to be lower, but they probably set the confidence value to be at least 60% when matching taxonomy which is why this is the min value. "
   ]
  },
  {
   "cell_type": "code",
   "execution_count": 79,
   "id": "d983a5ba-bf93-4c89-8133-e8d379cc5621",
   "metadata": {
    "tags": []
   },
   "outputs": [
    {
     "data": {
      "text/plain": [
       "count       147455\n",
       "unique           4\n",
       "top       Bacteria\n",
       "freq        117916\n",
       "Name: Domain, dtype: object"
      ]
     },
     "execution_count": 79,
     "metadata": {},
     "output_type": "execute_result"
    }
   ],
   "source": [
    "taxa['Domain'].describe()"
   ]
  },
  {
   "cell_type": "code",
   "execution_count": 81,
   "id": "9b7ee797-b925-49a4-8d35-bbfd5974168a",
   "metadata": {
    "tags": []
   },
   "outputs": [
    {
     "name": "stdout",
     "output_type": "stream",
     "text": [
      "(147455, 8)\n",
      "29539\n"
     ]
    }
   ],
   "source": [
    "#print rows, columns of taxa\n",
    "print(taxa.shape)\n",
    "#obtain number of non-bacteria hits by subtracting the \"freq\" outcome of describe to the total number of observations obtained by the row number of shape\n",
    "print(147455-117916)"
   ]
  },
  {
   "cell_type": "markdown",
   "id": "83705834-e646-49ba-b5a2-77ea45f7d22e",
   "metadata": {},
   "source": [
    "- 'Bacteria' was the top value as I had expected. 4 unique values also makes sense since there are 3 domains of life: eukaryota, bacteria, archaea and as I mentioned, some will say 'unassigned'. There were 29539 observations that were not bacteria though, and that is higher than i expected. "
   ]
  },
  {
   "cell_type": "markdown",
   "id": "62a2dad9-4222-4695-bc87-6fe4ddeed52d",
   "metadata": {},
   "source": [
    "#### 3.1 Visualizations"
   ]
  }
 ],
 "metadata": {
  "kernelspec": {
   "display_name": "Python 3 (ipykernel)",
   "language": "python",
   "name": "python3"
  },
  "language_info": {
   "codemirror_mode": {
    "name": "ipython",
    "version": 3
   },
   "file_extension": ".py",
   "mimetype": "text/x-python",
   "name": "python",
   "nbconvert_exporter": "python",
   "pygments_lexer": "ipython3",
   "version": "3.11.3"
  }
 },
 "nbformat": 4,
 "nbformat_minor": 5
}
