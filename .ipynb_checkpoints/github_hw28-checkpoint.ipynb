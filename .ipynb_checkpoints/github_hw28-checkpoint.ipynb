{
 "cells": [
  {
   "cell_type": "markdown",
   "id": "dbbbf331-f12b-4312-9998-94b6aec85e0f",
   "metadata": {},
   "source": [
    "##Github Homework"
   ]
  },
  {
   "cell_type": "markdown",
   "id": "e1625663-f020-45e4-bf03-7a9bc9a1bb8b",
   "metadata": {},
   "source": [
    "1) name one purpose for github: \n",
    "- establishes version control for code and projects "
   ]
  },
  {
   "cell_type": "markdown",
   "id": "ff85d45e-666f-4ae8-a004-7b83aefa71dc",
   "metadata": {},
   "source": [
    "2) describe what is version control in your own words and how it could help you in your project; \n",
    "- it keeps different versions of code so that you can always revert back to an earlier version and see different changes you have made. this will be helpful in the project because as we progress through the project and make changes, we may want to use earlier versions that would be deleted without version control."
   ]
  },
  {
   "cell_type": "markdown",
   "id": "645e33e9-bced-453a-acbc-112931090646",
   "metadata": {},
   "source": [
    "3) explain how in a group project (which we are not doing) github could help manage collaboration.\n",
    "- it is easier to keep track of changes made by different users, easily get collaborators' updates, and collaborators can review changes before merging them which prevents errors. "
   ]
  }
 ],
 "metadata": {
  "kernelspec": {
   "display_name": "Python 3 (ipykernel)",
   "language": "python",
   "name": "python3"
  },
  "language_info": {
   "codemirror_mode": {
    "name": "ipython",
    "version": 3
   },
   "file_extension": ".py",
   "mimetype": "text/x-python",
   "name": "python",
   "nbconvert_exporter": "python",
   "pygments_lexer": "ipython3",
   "version": "3.11.3"
  }
 },
 "nbformat": 4,
 "nbformat_minor": 5
}
