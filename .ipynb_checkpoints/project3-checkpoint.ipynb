{
 "cells": [
  {
   "cell_type": "markdown",
   "id": "5c584d1a-88dd-4107-a2c2-e53edf83633d",
   "metadata": {},
   "source": [
    "##Project Pt 3"
   ]
  },
  {
   "cell_type": "markdown",
   "id": "de8a5100-dfcf-40a1-9afd-49032e5529ef",
   "metadata": {},
   "source": [
    "####1. Introduction\n",
    "This paper completed a meta-analysis examining the differences in microbiomes of corals with and without stony coral tissue loss disease (sctld). In an effort to reduce biases from varying sampling and bioinformatic methods, they compiled datasets from 16 different studies to identify microbial taxa that may be associated with the disease since the cause of sctld is still unknown. "
   ]
  },
  {
   "cell_type": "markdown",
   "id": "7c1ea9ca-8029-4a6e-9525-6bd13659455d",
   "metadata": {},
   "source": [
    "####2. Project Pt 2\n",
    "\n",
    "###2.1 Contents of Project pt 2\n",
    "Section 1: Data Set 1 from Project Pt1: https://www.nature.com/articles/s43705-023-00220-0\n",
    "- Data sets acquired from 16 studies. **2425** total coral samples (observations). samples collected either from the field or from lab-based experiments and sequenced  \n",
    "- Features (>1000) - taxonomic units (ASVs) that describe how many counts of those ASVs were in each coral sample (the observations)\n",
    "- Metadata about observations - sample type (tissue, mucus, mucus/tissue combo), disease state, geographic location, coral species, aquaria vs natural environment. They also had other data sets of water and sediment samples with ASVs as features. \n",
    "\n",
    "Research Qs:\n",
    "- the cause of stony coral tissue loss disease is unknown but is hypothesized to be from a microbial pathogen - what bacteria are associated with the disease? How do these associated taxa vary across environments and coral species?\n",
    "    - they theorized that a lack of consensus across studies investigating bacteria associated with sctld is from variability in both sample type (location, coral species, field vs aquaria) and bionformatic analysis. They collected data from multiple studies to analysis them using a single bioinformatic pipeline to limit this variability and investigate similar questions by a meta-analysis using the compiled data.\n",
    "- you can also ask how coral microbiomes differ when raised in aquaria vs found in their natural environments. you can also examine how microbiomes of the same species differ across locations and disease states. **comment correction: The data set is useful because it includes microbiome samples for corals raised in aquaria vs those sampled from the field. Since the corals sampled have varying disease states, you can just reframe the question to be about coral microbiomes in different environments instead of focusing on disease state. There is also plenty of samples from the same species which is why this data would be useful in examning microbiomes across disease state and/or location within the same host species.** \n",
    "- they also examined the microbial communities in the water and sediment surrounding some of the coral samples to try to identify potential pathogens that are transmissable \n"
   ]
  },
  {
   "cell_type": "markdown",
   "id": "3a16dd84-cf36-4a9a-8ef5-1e3061ec2134",
   "metadata": {
    "tags": []
   },
   "source": [
    "Figure 1: \n",
    "![image.png](attachment:aa9d2e13-d310-4a79-b5d4-d43e7879f975.png)"
   ]
  },
  {
   "cell_type": "markdown",
   "id": "d6bffe89-146e-4ede-bb01-19e117697fd4",
   "metadata": {},
   "source": [
    "Section 2 - **Figure 1** Answers:\n",
    "- x-axis: Log fold change & relative abundance\n",
    "- y-axis: taxa (genus, order)\n",
    "- A) the data points show the log fold changes in taxonomic groups when comparing disease lesion (diseased tissue sample) to apparently healthy. So, anything showing positive log-fold change means that taxa was more abundant in Disease Lesion, and anything negative was less abundant in Disease Lesion\n",
    "- B) the relative abundances of the taxa groups within the sample types. **comment correction: the relative abundance is calculating the fraction of sample type compared to the rest. the number of samples within a sample type (seawater, mucus, slury, etc) divided by the total number of samples - and the total number of samples is set to 1**\n",
    "- this figure illustrates how bacterial taxa significantly change between healthy and diseased corals, supporting their hypothesis that certain taxa are associated with the disease. B shows how some of these abundances vary across environment or parts of the coral (mucus vs tissue) to support their hypothesis that microbiome changes and associated bacteria may depend on individual hosts. It also shows how disease-associated microbes may be present in the water and sediment, providing evidence for their hypothesis that this disease is transmissable.\n",
    "- Conclusions: Certain bacterial groups are associated with the disease. Multiple genera in Rhodobacterales and Peptostreptococcales increased significantly in diseased samples indicating it may be pathogenic or just associated with the disease state. Some bacteria associated with the disease may be present in the surrounding seawater and sediment, meaning it may be transmissable. "
   ]
  },
  {
   "cell_type": "markdown",
   "id": "7de98a3c-00e0-4c28-8baa-5c8a054dffa1",
   "metadata": {},
   "source": [
    "Figure 2: ![image.png](attachment:f53cb107-74cb-4be2-ad39-1a5741094d38.png)"
   ]
  },
  {
   "cell_type": "markdown",
   "id": "5cdf4034-efc0-4f60-843f-792602fd8387",
   "metadata": {},
   "source": [
    "Section 2 - **Figure 2** Answers:\n",
    "- x-axis: Log fold change & relative abundance\n",
    "- y-axis: taxa (genus, order)\n",
    "- A) the data points show the log fold changes in taxonomic groups when comparing disease unaffected (unaffected tissue sample from a diseased coral colony) to apparently healthy. So, anything showing positive log-fold change means that taxa was more abundant in Disease Unaffected, and anything negative was less abundant in Disease Unaffected\n",
    "- B) the relative abundances of the taxa groups within the sample types\n",
    "\n",
    "- this figure also illustrates how bacterial taxa significantly change between healthy and diseased corals, supporting their hypothesis that certain taxa are associated with the disease. This is helpful to provide in addition to Figure 1 because it shows that the microbiome of the entire coral colony changes after being introduced to the disease, even if the disease symptoms haven't spread through the whole coral colony. B shows how some of these abundances vary across environment or parts of the coral (mucus vs tissue) to support their hypothesis that microbiome changes and associated bacteria may depend on individual hosts. It also shows how disease-associated microbes may be present in the water and sediment, providing evidence for their hypothesis that this disease is transmissable.\n",
    "\n",
    "- Conclusions: Both figures together show which bacteria may be associated with healthy corals or the disease. Multiple genera in Rhodobacterales decreased significantly in DU group but Flavobacteriales increased. \n",
    "\n",
    "Another figure that would be helpful would be the same type of figure showing the significant changes in taxa between Disease Unaffected (DU) and Disease Lesion (DL). This would allow you to easily compare all the taxa between all the groups - especially between the disease lesion and disease unaffected. this direct comparison is currently not shown in a figure in the paper. "
   ]
  },
  {
   "cell_type": "markdown",
   "id": "c06ceab4-61e8-47e4-bb88-b6a793f91d79",
   "metadata": {},
   "source": [
    "Section 3: \n",
    "Data table 1: taxonomy.tsv \n",
    "- tab deliminated data table - opened in excel \n",
    "- 147455 rows & 3 columns. The columns are the feature IDs (which is just the sequence sample identifier), Taxonomy (the identified microbial taxa from the sequence: kingdom - species), and Concensus (percentage that the sequence matched the identified taxa group in the taxonomy database it was matched against). The feature ID's are the observations and the taxonomy and consensus columns are the features. \n",
    "- This data is important because it matches each sequence to a microbial taxa. This enables comparing the taxa between samples which is important to answer the paper's questions. \n",
    "\n",
    "Data table 2: Feature-table.biom\n",
    "- biom table format - downloaded QIIME2 (bioinformatic software package) and accessed through command line: converted biom format to txt file and opened as tab deliminated table in excel\n",
    "- 119456 rows, 2426 columns. rows are feature IDs (match the ones in data table 1), columns are samples (observations). File contains number of feature IDs (sequences of microbial taxa) in each coral sample\n",
    "- this is essential to the paper because knowing the amount of each taxa in the samples allows comparisons between sample groups, so you can identify bacteria associated with diseased coral samples by seeing which taxa are more abundant in diseased samples vs healthy samples.\n",
    "\n",
    "Data table 3: SCTLD_meta_analysis_metadata.csv\n",
    "- comma deliminated table - opened in excel \n",
    "- 2444 rows, 68 columns. rows are sample IDs the columns contain metadata about the samples including the study the data came from, the coral species, the disease state, location of coral. \n",
    "- The file is important to the analysis because it allows you to match the sample ID to the other data tables and contains important information about the samples. Using this in combination with the other data tables, they were able to sort samples into disease state or environment or sample type to compare microbial abundances to answer their research question."
   ]
  },
  {
   "cell_type": "markdown",
   "id": "c64b4c04-9e53-47e2-8dd5-aa71cf7cebab",
   "metadata": {},
   "source": [
    "###2.2 Project Pt 2\n",
    "- I added why the data set on hand would be useful for other potential research questions and added more information on what relative abundance (one of the axes) is in figure 1. "
   ]
  }
 ],
 "metadata": {
  "kernelspec": {
   "display_name": "Python 3 (ipykernel)",
   "language": "python",
   "name": "python3"
  },
  "language_info": {
   "codemirror_mode": {
    "name": "ipython",
    "version": 3
   },
   "file_extension": ".py",
   "mimetype": "text/x-python",
   "name": "python",
   "nbconvert_exporter": "python",
   "pygments_lexer": "ipython3",
   "version": "3.11.3"
  }
 },
 "nbformat": 4,
 "nbformat_minor": 5
}
